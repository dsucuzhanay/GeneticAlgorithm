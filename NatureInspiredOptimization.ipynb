{
  "cells": [
    {
      "cell_type": "markdown",
      "metadata": {
        "id": "hfI6N1bII-gE"
      },
      "source": [
        "# Nature inspired optimization\n",
        "\n",
        "## Task 1 - Genetic Algorithm\n",
        "\n",
        "Write genetic algorithm in Python and solve the Knapsack problem.\n"
      ]
    },
    {
      "cell_type": "markdown",
      "metadata": {
        "id": "29dDMiuyJ2sL"
      },
      "source": [
        "Weights in Kg and costs in EUR for a set of 64 items are given. The goal of the optimization algorithm is to select items to knapsack so that the cost of items reaches the maximum and weight of items do not exceed the knapsack weight limit. \n",
        "\n",
        "After writing your algorithm change weights and costs to test the algorithm again."
      ]
    },
    {
      "cell_type": "code",
      "execution_count": 1,
      "metadata": {
        "colab": {
          "base_uri": "https://localhost:8080/"
        },
        "id": "VD3fMOpLLiHK",
        "outputId": "98d036cb-fa65-464b-9a0a-a8abde0f2147"
      },
      "outputs": [
        {
          "output_type": "stream",
          "name": "stdout",
          "text": [
            "weight -> cost | cost per kilo\n",
            " 2.3kg ->    6€ | 2.6\n",
            " 8.1kg ->   17€ | 2.1\n",
            " 6.0kg ->   10€ | 1.7\n",
            " 4.2kg ->   26€ | 6.2\n",
            " 1.3kg ->   19€ | 14.6\n",
            " 2.9kg ->   81€ | 27.9\n",
            " 7.0kg ->   67€ | 9.6\n",
            " 7.9kg ->   36€ | 4.6\n",
            " 3.6kg ->   21€ | 5.8\n",
            " 5.0kg ->   33€ | 6.6\n",
            " 3.1kg ->   13€ | 4.2\n",
            " 5.0kg ->    5€ | 1.0\n",
            " 3.4kg ->  172€ | 50.6\n",
            " 5.3kg ->  138€ | 26.0\n",
            " 0.8kg ->  185€ | 231.2\n",
            " 6.9kg ->   27€ | 3.9\n",
            " 9.8kg ->    4€ | 0.4\n",
            " 4.4kg ->    3€ | 0.7\n",
            " 5.4kg ->   11€ | 2.0\n",
            " 7.5kg ->   19€ | 2.5\n",
            " 4.6kg ->   95€ | 20.7\n",
            " 0.3kg ->   90€ | 300.0\n",
            " 9.2kg ->   24€ | 2.6\n",
            " 8.8kg ->   20€ | 2.3\n",
            " 2.2kg ->   28€ | 12.7\n",
            " 3.3kg ->   19€ | 5.8\n",
            " 9.9kg ->    7€ | 0.7\n",
            " 7.6kg ->   28€ | 3.7\n",
            " 5.9kg ->   14€ | 2.4\n",
            " 4.2kg ->   43€ | 10.2\n",
            " 4.9kg ->   40€ | 8.2\n",
            " 5.8kg ->   12€ | 2.1\n",
            " 4.4kg ->   25€ | 5.7\n",
            " 2.9kg ->   37€ | 12.8\n",
            " 0.1kg ->   25€ | 250.0\n",
            " 2.4kg ->   16€ | 6.7\n",
            " 5.6kg ->   85€ | 15.2\n",
            " 7.8kg ->   20€ | 2.6\n",
            " 7.0kg ->   15€ | 2.1\n",
            " 7.5kg ->   59€ | 7.9\n",
            " 7.3kg ->   72€ | 9.9\n",
            " 7.4kg ->  168€ | 22.7\n",
            " 6.4kg ->   30€ | 4.7\n",
            " 1.6kg ->   57€ | 35.6\n",
            " 6.8kg ->   49€ | 7.2\n",
            " 4.0kg ->   66€ | 16.5\n",
            " 4.6kg ->   75€ | 16.3\n",
            " 4.1kg ->   23€ | 5.6\n",
            " 0.5kg ->   79€ | 158.0\n",
            " 6.3kg ->   20€ | 3.2\n",
            " 5.2kg ->  104€ | 20.0\n",
            " 1.5kg ->    9€ | 6.0\n",
            " 9.7kg ->   32€ | 3.3\n",
            " 1.6kg ->   46€ | 28.8\n",
            " 2.6kg ->   47€ | 18.1\n",
            " 1.3kg ->   55€ | 42.3\n",
            " 6.5kg ->   21€ | 3.2\n",
            " 2.6kg ->   18€ | 6.9\n",
            " 7.8kg ->   23€ | 2.9\n",
            " 6.3kg ->   44€ | 7.0\n",
            " 8.4kg ->   61€ | 7.3\n",
            " 9.4kg ->    8€ | 0.9\n",
            " 1.4kg ->   42€ | 30.0\n",
            " 7.5kg ->    1€ | 0.1\n"
          ]
        }
      ],
      "source": [
        "# Example\n",
        "import numpy as np\n",
        "import random\n",
        "\n",
        "# 64 items and their weights.\n",
        "# Replace the weights with your own set of weights\n",
        "# \n",
        "weights_of_items = np.array([\n",
        "    2.3, 8.1, 6., 4.2, 1.3, 2.9, 7., 7.9,\n",
        "    3.6, 5., 3.1, 5., 3.4, 5.3, 0.8, 6.9,\n",
        "    9.8, 4.4, 5.4, 7.5, 4.6, 0.3, 9.2, 8.8,\n",
        "    2.2, 3.3, 9.9, 7.6, 5.9, 4.2, 4.9, 5.8,\n",
        "    4.4, 2.9, 0.1, 2.4, 5.6, 7.8, 7., 7.5,\n",
        "    7.3, 7.4, 6.4, 1.6, 6.8, 4., 4.6, 4.1,\n",
        "    0.5, 6.3, 5.2, 1.5, 9.7, 1.6, 2.6, 1.3,\n",
        "    6.5, 2.6, 7.8, 6.3, 8.4, 9.4, 1.4, 7.5])\n",
        "#\n",
        "#  64 costs corresponding to weights\n",
        "#  Replace the costs with your own set of costs\n",
        "costs_of_items = np.array([\n",
        "           6.,  17.,  10., 26.,  19.,  81.,  67., 36.,\n",
        "          21.,  33.,  13.,  5., 172., 138., 185., 27.,\n",
        "           4.,   3.,  11., 19.,  95.,  90.,  24., 20.,\n",
        "          28.,  19.,   7., 28.,  14.,  43.,  40., 12.,\n",
        "          25.,  37.,  25., 16.,  85.,  20.,  15., 59.,\n",
        "          72., 168.,  30., 57.,  49.,  66.,  75., 23.,\n",
        "          79.,  20., 104.,  9.,  32.,  46.,  47., 55.,\n",
        "          21.,  18.,  23., 44.,  61.,   8.,  42.,  1.])\n",
        "#\n",
        "# Knapsack weight limit\n",
        "#\n",
        "knapsack_weight_limit = 100\n",
        "#\n",
        "print(\"weight -> cost | cost per kilo\")\n",
        "for i in range(len(weights_of_items)):\n",
        "  print(\"{:-4.1f}kg -> {:-4.0f}€ | {:.1f}\".format(\n",
        "      weights_of_items[i], costs_of_items[i], costs_of_items[i]/weights_of_items[i]))"
      ]
    },
    {
      "cell_type": "markdown",
      "metadata": {
        "id": "xhwT3O6SwOjU"
      },
      "source": [
        "### Parameters of the algorithm\n",
        "\n",
        "\n",
        "\n",
        "*   **chromosome_size** - dimension of the chromosome vector. We have 64 items so that the chromosome_size is equal to 64 \n",
        "*   **population_size** - number of individuals in the population\n",
        "*   **parent_count** - number of parents that are selected from the population on the base of the roulette selection. The parent count must be less than population size.\n",
        "*   **probability_of_ones_in_a_new_chromosome** - probability which is used for initial population generation. It is probability of one in the initial chromosome. High values may lead to generation of many individuals with fitness equal to zero. This parameter is specific for our method of generation the initial chromosome. This parameter is meaningless if you choice another method.\n",
        "* **probability_of_crossover** - probability of crossover\n",
        "* **probability_of_mutation** - probability of mutation. We recommend to start at the value of 1/ga_chromosome_size and increase later\n",
        "\n",
        "\n",
        "\n",
        "\n",
        "\n",
        "\n",
        "\n"
      ]
    },
    {
      "cell_type": "code",
      "execution_count": 2,
      "metadata": {
        "id": "bTETN6YZxAvj"
      },
      "outputs": [],
      "source": [
        "# Example\n",
        "\n",
        "# Genetic algorithm parameters\n",
        "ga_chromosome_size = len(weights_of_items)\n",
        "ga_probability_of_ones_in_a_new_chromosome = 0.1\n",
        "ga_probability_of_crossover = 0.3\n",
        "ga_probability_of_mutation  = 1.0 / ga_chromosome_size\n",
        "ga_population_size = 100\n",
        "ga_parent_count = ga_population_size * 3 // 4 # 3/4 of the population size\n",
        "ga_generations = 100"
      ]
    },
    {
      "cell_type": "markdown",
      "metadata": {
        "id": "YwW-niumx5wN"
      },
      "source": [
        "### Algorithm components\n",
        "\n",
        "#### Fitness function definition\n",
        "\n",
        "Let ${\\bf w}$ is the weight vector, ${\\bf c}$ is the cost vector, ${\\bf g}$ is a chromosome and L is the weight limit, we define the fitness function as \n",
        "\n",
        "$$\\text{fitness}({\\bf g}) = \n",
        "\\begin{cases}\n",
        "  0 & \\text{iff} \\quad \\sum_{i=0}^{N-1}w_ig_i > L \\\\\n",
        "  \\sum_{i=0}^{N-1}c_ig_i & \\text{otherwise}\n",
        "\\end{cases}$$ \n",
        "\n",
        "Define the fitness function\n",
        "```python\n",
        "def fitness(w, c, L, g):\n",
        "  return f #fitness\n",
        "```\n"
      ]
    },
    {
      "cell_type": "code",
      "execution_count": 3,
      "metadata": {
        "id": "91ZL7H_Qx-PY"
      },
      "outputs": [],
      "source": [
        "def fitness(w, c, L, g):\n",
        "  f = 0\n",
        "  aux = sum(w*g)\n",
        "  if aux > L:\n",
        "    f = 0\n",
        "  else:\n",
        "    f = sum(c*g)\n",
        "  return f"
      ]
    },
    {
      "cell_type": "markdown",
      "metadata": {
        "id": "jDe93NMB5kzO"
      },
      "source": [
        "#### Chromosome Initialization\n",
        "\n",
        "Let $p$ is the initialization probability for 1 in a new chromosome, $\\psi$ is a random value with the unique distribution in the range of $<0,1>$ and ${\\bf g}$ is a new chromosome then\n",
        "\n",
        "$$g_i = \n",
        "\\begin{cases}\n",
        "  1 &  \\text{iff} \\quad \\psi < p \\\\\n",
        "  0 &  \\text{otherwise}\n",
        "\\end{cases}$$ \n",
        "\n",
        "for all $i \\in <0, N-1>$ where $N=|{\\bf g}|$.\n",
        "\n",
        "The $p$ should be sufficiently low to generate a valid solution with non-zero fitness. Check the validity of the solution after chromosome creation and recreate it if the total weight of the knapsack is above the weight limit $L$. More formally for a valid solution\n",
        "\n",
        "$$\\sum_{i=0}^{N-1}w_ig_i < L$$\n",
        "\n",
        "where ${\\bf w}$ is the weight vector. \n",
        "\n",
        "This is recommended, but not mandatory way how to initialize a new chromosome. Be aware that producing non-valid solutions with zero fitness at start may disturb the algorithm.\n",
        "\n",
        "Define python function\n",
        "```python\n",
        "def generate_chromosome(N, w, L, p):\n",
        "  pass\n",
        "```\n"
      ]
    },
    {
      "cell_type": "code",
      "execution_count": 4,
      "metadata": {
        "id": "tswAvgaw5811"
      },
      "outputs": [],
      "source": [
        "def generate_chromosome(N, w, L, p):\n",
        "  g = np.zeros((N))\n",
        "  aux = L + 1\n",
        "\n",
        "  while aux > L:\n",
        "    g = np.zeros((N))\n",
        "\n",
        "    for i in range(N):\n",
        "      v = random.uniform(0, 1)\n",
        "      if v < p:\n",
        "        g[i] = 1\n",
        "    \n",
        "    aux = sum(w*g)\n",
        "    \n",
        "  return g"
      ]
    },
    {
      "cell_type": "markdown",
      "metadata": {
        "id": "LrdcJ7yZ3wVS"
      },
      "source": [
        "#### Initialize the population\n",
        "\n",
        "The population is represented by a numpy matrix. Rows of the matrix correspond to individuals, columns corresponds to genes in the chromosome. Our matrix has 64 columns because we have 64 items.\n",
        "\n",
        "Call ```generate_chromosome()``` function for each row of the matrix.\n",
        "\n",
        "Define python function\n",
        "\n",
        "```python\n",
        "def initialize_population(population_size,\n",
        "         chromosome_size, weights, weight_limit,\n",
        "         probability_of_ones_in_a_new_chromosome):\n",
        "         ...\n",
        "         return population\n",
        "```        "
      ]
    },
    {
      "cell_type": "code",
      "execution_count": 5,
      "metadata": {
        "id": "ZKMz1ruX_bmt"
      },
      "outputs": [],
      "source": [
        "def initialize_population(\n",
        "    population_size,\n",
        "    chromosome_size,\n",
        "    weights,\n",
        "    weight_limit,\n",
        "    probability_of_ones_in_a_new_chromosome):\n",
        "  \n",
        "  population = np.zeros((population_size, chromosome_size))\n",
        "\n",
        "  for i in range(population_size):\n",
        "    population[i] = generate_chromosome(chromosome_size, weights, population_size, probability_of_ones_in_a_new_chromosome)\n",
        "\n",
        "  return population"
      ]
    },
    {
      "cell_type": "markdown",
      "metadata": {
        "id": "mdhnoIMqBzyO"
      },
      "source": [
        "#### Evaluate fitness\n",
        "\n",
        "Apply fitness function to all rows of the population matrix. The result is a vector of fitness values for all individuals in the population. The vector has the same size as the size of the population.\n",
        "\n",
        "```\n",
        "def evaluate_fitness(population, weights, costs, weight_limit)\n",
        "  pass\n",
        "```\n"
      ]
    },
    {
      "cell_type": "code",
      "execution_count": 6,
      "metadata": {
        "id": "2JQ23hxoCOpq"
      },
      "outputs": [],
      "source": [
        "def evaluate_fitness(population, weights, costs, weight_limit):\n",
        "  fitness_values = np.zeros((population.shape[0]))\n",
        "\n",
        "  for i in range(population.shape[0]):\n",
        "    fitness_values[i] = fitness(weights, costs, weight_limit, population[i])\n",
        "\n",
        "  return fitness_values"
      ]
    },
    {
      "cell_type": "markdown",
      "metadata": {
        "id": "r86kz1V8YIR_"
      },
      "source": [
        "#### Roulette Selection\n",
        "\n",
        "Implement roulette selection. First create a \"roulette\", i.e. an array of the same size as the population size $N$ where each element $r_i$ is equal to\n",
        "\n",
        "$$r_i = \\frac{f_j}{F} + r_{i-1}; r_{-1}=0, F = \\sum_{k=0}^{N-1}f_k$$\n",
        "\n",
        "Generate a random number $\\psi \\in <0,1>$ (uniform distribution) and find the index $i$ in the ${\\bf r}$ array so that $r_{i-1} < \\psi <= r_i$.\n",
        "\n",
        "Hint: use ```numpy.searchsorted``` function. What is the complexity of the search with respect to the population size ?\n"
      ]
    },
    {
      "cell_type": "code",
      "execution_count": 7,
      "metadata": {
        "id": "xylRPzMUYepq"
      },
      "outputs": [],
      "source": [
        "def roulette_selection(population, fitness_values, parent_count):\n",
        "  roulette = np.zeros((fitness_values.shape[0]))\n",
        "  F = sum(fitness_values)\n",
        "\n",
        "  for i in range(fitness_values.shape[0]):\n",
        "    if i == 0:\n",
        "      roulette[i] = fitness_values[i]/F\n",
        "    else:\n",
        "      roulette[i] = fitness_values[i]/F + roulette[i-1]\n",
        "\n",
        "  parents = np.zeros((parent_count, population.shape[1]))\n",
        "\n",
        "  for j in range(parent_count):\n",
        "    v = random.uniform(0, 1)\n",
        "    i = np.searchsorted(roulette, v)\n",
        "    parents[j] = population[i]\n",
        "\n",
        "  return parents"
      ]
    },
    {
      "cell_type": "markdown",
      "metadata": {
        "id": "SeQJSHSWUR9x"
      },
      "source": [
        "#### Crossover\n",
        "\n",
        "Let ${\\bf a}$ is a chromosome, ${\\bf b}$ is a chromosome, $p$ is a probability of crossover and $N = |{\\bf a}| = |{\\bf b}|$. Generate randomly an index $i$ in the range of $i \\in <0, N - 1>$. Further generate a real random number $\\psi \\in <0,1>$ from uniform distribution. Create a new chromosome ${\\bf r}$ according to \n",
        "\n",
        "$$\n",
        "r_k = \n",
        "\\begin{cases}\n",
        "    b_k & k <= i \\land \\psi < p\\\\\n",
        "    a_k & \\text{otherwise}\n",
        "\\end{cases}     \n",
        "$$ \n",
        "\n",
        "for all $k$ in the range of $<0, N-1>$\n",
        "\n",
        "Define python function\n",
        "```python\n",
        "define crossover(a, b, p):\n",
        "  ...\n",
        "  return r\n",
        "```  \n"
      ]
    },
    {
      "cell_type": "code",
      "execution_count": 8,
      "metadata": {
        "id": "bNFCL5heUnd8"
      },
      "outputs": [],
      "source": [
        "def crossover(a, b, p):\n",
        "  i = np.random.randint(0, a.shape[0])\n",
        "  v = random.uniform(0, 1)\n",
        "  r = np.zeros((a.shape[0]))\n",
        "  \n",
        "  for k in range(a.shape[0]):\n",
        "    if k <= i and v < p:\n",
        "      r[k] = b[k]\n",
        "    else:\n",
        "      r[k] = a[k]\n",
        "\n",
        "  return r"
      ]
    },
    {
      "cell_type": "markdown",
      "metadata": {
        "id": "VVmTQ47lt6Kd"
      },
      "source": [
        "#### Mutation\n",
        "\n",
        "Let ${\\bf g}$ is a chromosome and $N =|{\\bf g}|$ is the length of the chromosome. For each index $i \\in <0, N-1>$ generate a real random number $\\psi$ from uniform distribution and create a new chromosome ${\\bf r}$ according to\n",
        "$$\n",
        "r_i=\n",
        "\\begin{cases}\n",
        "0 & \\quad g_i = 1 \\land \\psi < p \\\\\n",
        "1 & \\quad g_i = 0 \\land \\psi < p \\\\\n",
        "g_i & \\text{otherwise}\n",
        "\\end{cases}\n",
        "$$ \n",
        "\n",
        "for all indexes $i \\in <0, N-1>$. \n",
        "\n",
        "Define a python function\n",
        "```python\n",
        "def mutation(g, p):\n",
        "    ...\n",
        "    return m\n",
        "```    "
      ]
    },
    {
      "cell_type": "code",
      "execution_count": 9,
      "metadata": {
        "id": "B6FtgkSAI4Qn"
      },
      "outputs": [],
      "source": [
        "def mutation(g, p):\n",
        "  m = np.zeros((g.shape[0]))\n",
        "\n",
        "  for i in range(g.shape[0]):\n",
        "    v = random.uniform(0, 1)\n",
        "    if g[i] == 1 and v < p:\n",
        "      m[i] = 0\n",
        "    elif g[i] == 0 and v < p:\n",
        "      m[i] = 1\n",
        "    else:\n",
        "      m[i] = g[i]\n",
        "\n",
        "  return m"
      ]
    },
    {
      "cell_type": "markdown",
      "metadata": {
        "id": "uiffO4xRAD4Y"
      },
      "source": [
        "### Genetic Algorithm\n",
        "\n",
        "Implement the genetic algorithm according to following pseudocode\n",
        "\n",
        "```pseudocode\n",
        "init_population\n",
        "evaluate_fitness\n",
        "for i in range(generations):\n",
        "    parents <- roulette_selection (parent_size)\n",
        "    copy parents to new population\n",
        "    fill new population by chromosomes obtained\n",
        "       by crossover followed by mutation to ensure\n",
        "       that new population will reach \n",
        "       the population_size\n",
        "    evaluate_fitness\n",
        "```  \n",
        "\n",
        "In the loop collect history as the best solution (highest fitness), the total weight of that solution and other useful information as generation number, minimum weight, maximum weight and minimum cost."
      ]
    },
    {
      "cell_type": "code",
      "source": [
        "def get_kpi(fitness_values, population, w):\n",
        "  best_cost = max(fitness_values)\n",
        "  index = fitness_values.argmax()\n",
        "  c = population[index]\n",
        "  best_weight = sum(w*c)\n",
        "\n",
        "  min_cost = min(fitness_values)\n",
        "\n",
        "  weights = np.zeros((population.shape[0]))\n",
        "  for i in range(population.shape[0]):\n",
        "    weights[i] = sum(population[i]*w)\n",
        "\n",
        "  max_weight = max(weights)\n",
        "  min_weight = min(weights)\n",
        "  \n",
        "  return best_cost, best_weight, min_cost, max_weight, min_weight"
      ],
      "metadata": {
        "id": "smnOVDuH8OiS"
      },
      "execution_count": 10,
      "outputs": []
    },
    {
      "cell_type": "code",
      "execution_count": 11,
      "metadata": {
        "id": "VhqrplUa_4RG"
      },
      "outputs": [],
      "source": [
        "population = initialize_population(\n",
        "    ga_population_size, ga_chromosome_size, weights_of_items, knapsack_weight_limit, ga_probability_of_ones_in_a_new_chromosome)\n",
        "\n",
        "fitness_values = evaluate_fitness(population, weights_of_items, costs_of_items, knapsack_weight_limit)\n",
        "\n",
        "# history\n",
        "dim = ga_generations + 1\n",
        "generation = np.zeros((dim), dtype=int)\n",
        "best_cost = np.zeros((dim))\n",
        "min_cost = np.zeros((dim))\n",
        "best_weight = np.zeros((dim))\n",
        "min_weight = np.zeros((dim))\n",
        "max_weight = np.zeros((dim))\n",
        "generation[0] = 0\n",
        "best_cost[0], best_weight[0], min_cost[0], max_weight[0], min_weight[0] = get_kpi(fitness_values, population, weights_of_items)\n",
        "# end history\n",
        "\n",
        "for i in range(ga_generations):\n",
        "  parents = roulette_selection(population, fitness_values, ga_parent_count)\n",
        "  new_population = np.zeros((population.shape))\n",
        "  new_population[0:ga_parent_count,:] = parents\n",
        "\n",
        "  k = 0\n",
        "  for j in range(ga_parent_count, ga_population_size):\n",
        "    a = parents[k]\n",
        "    k += 1\n",
        "    b = parents[k]\n",
        "    k += 1\n",
        "    c = crossover(a, b, ga_probability_of_crossover)\n",
        "    m = mutation(c, ga_probability_of_mutation)\n",
        "    new_population[j] = m\n",
        "  \n",
        "  population = new_population\n",
        "  fitness_values = evaluate_fitness(population, weights_of_items, costs_of_items, knapsack_weight_limit)\n",
        "\n",
        "  # history\n",
        "  generation[i+1] = i+1\n",
        "  best_cost[i+1], best_weight[i+1], min_cost[i+1], max_weight[i+1], min_weight[i+1] = get_kpi(fitness_values, population, weights_of_items)\n",
        "  # end history"
      ]
    },
    {
      "cell_type": "markdown",
      "metadata": {
        "id": "Ju-MJosWZiVP"
      },
      "source": [
        "#### Print following data\n",
        "\n",
        "```generation, best cost, min_cost, best weight, min_weight, max weight``` for all generations.\n",
        "\n",
        "#### Plot following graphs\n",
        "\n",
        "1.  **cost, min_cost** with respect to generation number\n",
        "2.   **max weight, best weight, min_weight** with respect to generation number\n"
      ]
    },
    {
      "cell_type": "code",
      "execution_count": 12,
      "metadata": {
        "colab": {
          "base_uri": "https://localhost:8080/"
        },
        "id": "0qsmKFd0ajlM",
        "outputId": "1bf30152-171d-4410-a535-b7592fb07ded"
      },
      "outputs": [
        {
          "output_type": "stream",
          "name": "stdout",
          "text": [
            "# \t best_cost \t best_weight \t min_cost \t max_weight \t min_weight\n",
            "0  \t  821.0 \t 63.4 \t\t 46.0 \t\t 66.4 \t\t 1.6\n",
            "1  \t  936.0 \t 74.3 \t\t 68.0 \t\t 74.7 \t\t 5.6\n",
            "2  \t  1027.0 \t 78.8 \t\t 76.0 \t\t 87.9 \t\t 5.2\n",
            "3  \t  968.0 \t 84.0 \t\t 108.0 \t\t 87.9 \t\t 12.7\n",
            "4  \t  1011.0 \t 78.9 \t\t 108.0 \t\t 87.9 \t\t 6.7\n",
            "5  \t  1011.0 \t 78.9 \t\t 108.0 \t\t 81.3 \t\t 12.7\n",
            "6  \t  1140.0 \t 83.6 \t\t 239.0 \t\t 83.6 \t\t 12.7\n",
            "7  \t  1140.0 \t 83.6 \t\t 343.0 \t\t 89.9 \t\t 12.7\n",
            "8  \t  1168.0 \t 85.5 \t\t 405.0 \t\t 88.5 \t\t 12.7\n",
            "9  \t  1168.0 \t 85.5 \t\t 0.0 \t\t 102.7 \t\t 12.7\n",
            "10  \t  1286.0 \t 93.4 \t\t 403.0 \t\t 94.1 \t\t 47.8\n",
            "11  \t  1168.0 \t 85.5 \t\t 405.0 \t\t 94.1 \t\t 49.9\n",
            "12  \t  1175.0 \t 93.1 \t\t 0.0 \t\t 100.4 \t\t 49.9\n",
            "13  \t  1168.0 \t 85.5 \t\t 424.0 \t\t 94.1 \t\t 49.9\n",
            "14  \t  1196.0 \t 86.3 \t\t 507.0 \t\t 94.1 \t\t 49.9\n",
            "15  \t  1291.0 \t 91.4 \t\t 507.0 \t\t 94.8 \t\t 51.4\n",
            "16  \t  1291.0 \t 91.4 \t\t 560.0 \t\t 98.3 \t\t 52.5\n",
            "17  \t  1142.0 \t 89.9 \t\t 0.0 \t\t 102.9 \t\t 52.5\n",
            "18  \t  1219.0 \t 84.1 \t\t 560.0 \t\t 98.5 \t\t 52.5\n",
            "19  \t  1286.0 \t 97.5 \t\t 0.0 \t\t 104.2 \t\t 65.5\n",
            "20  \t  1286.0 \t 97.5 \t\t 0.0 \t\t 106.3 \t\t 65.5\n",
            "21  \t  1286.0 \t 97.5 \t\t 636.0 \t\t 98.5 \t\t 65.5\n",
            "22  \t  1332.0 \t 99.1 \t\t 0.0 \t\t 103.7 \t\t 66.2\n",
            "23  \t  1332.0 \t 99.1 \t\t 0.0 \t\t 100.4 \t\t 66.2\n",
            "24  \t  1341.0 \t 92.3 \t\t 0.0 \t\t 107.0 \t\t 66.2\n",
            "25  \t  1332.0 \t 99.1 \t\t 0.0 \t\t 104.9 \t\t 66.2\n",
            "26  \t  1286.0 \t 97.5 \t\t 0.0 \t\t 116.5 \t\t 66.2\n",
            "27  \t  1325.0 \t 87.2 \t\t 0.0 \t\t 105.3 \t\t 58.8\n",
            "28  \t  1315.0 \t 93.0 \t\t 0.0 \t\t 115.8 \t\t 67.8\n",
            "29  \t  1387.0 \t 95.2 \t\t 0.0 \t\t 111.7 \t\t 67.8\n",
            "30  \t  1405.0 \t 97.8 \t\t 0.0 \t\t 105.7 \t\t 75.3\n",
            "31  \t  1405.0 \t 97.8 \t\t 0.0 \t\t 104.9 \t\t 72.3\n",
            "32  \t  1405.0 \t 97.8 \t\t 0.0 \t\t 111.0 \t\t 72.3\n",
            "33  \t  1405.0 \t 97.8 \t\t 0.0 \t\t 107.8 \t\t 72.3\n",
            "34  \t  1372.0 \t 93.8 \t\t 0.0 \t\t 114.0 \t\t 72.3\n",
            "35  \t  1372.0 \t 93.8 \t\t 0.0 \t\t 115.0 \t\t 75.0\n",
            "36  \t  1370.0 \t 97.9 \t\t 0.0 \t\t 105.0 \t\t 77.3\n",
            "37  \t  1410.0 \t 95.6 \t\t 0.0 \t\t 111.4 \t\t 77.3\n",
            "38  \t  1462.0 \t 94.2 \t\t 0.0 \t\t 110.0 \t\t 77.3\n",
            "39  \t  1462.0 \t 94.2 \t\t 0.0 \t\t 111.9 \t\t 76.5\n",
            "40  \t  1425.0 \t 94.4 \t\t 0.0 \t\t 111.0 \t\t 75.1\n",
            "41  \t  1425.0 \t 94.4 \t\t 0.0 \t\t 108.0 \t\t 64.7\n",
            "42  \t  1425.0 \t 94.4 \t\t 0.0 \t\t 118.4 \t\t 64.7\n",
            "43  \t  1425.0 \t 94.4 \t\t 0.0 \t\t 101.9 \t\t 79.7\n",
            "44  \t  1456.0 \t 93.6 \t\t 0.0 \t\t 107.4 \t\t 79.8\n",
            "45  \t  1428.0 \t 97.8 \t\t 0.0 \t\t 107.9 \t\t 69.0\n",
            "46  \t  1425.0 \t 94.4 \t\t 0.0 \t\t 115.9 \t\t 69.0\n",
            "47  \t  1446.0 \t 94.5 \t\t 0.0 \t\t 116.2 \t\t 69.0\n",
            "48  \t  1439.0 \t 99.4 \t\t 0.0 \t\t 115.1 \t\t 82.8\n",
            "49  \t  1439.0 \t 99.4 \t\t 0.0 \t\t 114.6 \t\t 82.8\n",
            "50  \t  1439.0 \t 99.4 \t\t 0.0 \t\t 108.1 \t\t 79.1\n",
            "51  \t  1422.0 \t 98.0 \t\t 0.0 \t\t 107.8 \t\t 79.1\n",
            "52  \t  1436.0 \t 99.5 \t\t 0.0 \t\t 114.4 \t\t 79.1\n",
            "53  \t  1484.0 \t 93.2 \t\t 0.0 \t\t 109.4 \t\t 79.1\n",
            "54  \t  1484.0 \t 93.2 \t\t 0.0 \t\t 109.6 \t\t 73.3\n",
            "55  \t  1440.0 \t 99.6 \t\t 0.0 \t\t 108.8 \t\t 77.2\n",
            "56  \t  1440.0 \t 99.6 \t\t 0.0 \t\t 105.7 \t\t 78.9\n",
            "57  \t  1440.0 \t 99.6 \t\t 0.0 \t\t 110.4 \t\t 80.5\n",
            "58  \t  1527.0 \t 98.2 \t\t 0.0 \t\t 104.2 \t\t 81.8\n",
            "59  \t  1527.0 \t 98.2 \t\t 0.0 \t\t 101.0 \t\t 78.6\n",
            "60  \t  1527.0 \t 98.2 \t\t 0.0 \t\t 114.2 \t\t 78.6\n",
            "61  \t  1445.0 \t 100.0 \t\t 0.0 \t\t 106.3 \t\t 78.6\n",
            "62  \t  1445.0 \t 100.0 \t\t 0.0 \t\t 113.9 \t\t 76.1\n",
            "63  \t  1467.0 \t 95.0 \t\t 0.0 \t\t 113.9 \t\t 73.4\n",
            "64  \t  1446.0 \t 95.5 \t\t 0.0 \t\t 119.6 \t\t 77.9\n",
            "65  \t  1484.0 \t 92.7 \t\t 0.0 \t\t 110.2 \t\t 77.9\n",
            "66  \t  1484.0 \t 92.7 \t\t 0.0 \t\t 110.2 \t\t 77.9\n",
            "67  \t  1484.0 \t 92.7 \t\t 0.0 \t\t 109.0 \t\t 77.9\n",
            "68  \t  1484.0 \t 92.7 \t\t 0.0 \t\t 110.1 \t\t 77.9\n",
            "69  \t  1484.0 \t 92.7 \t\t 0.0 \t\t 103.2 \t\t 77.9\n",
            "70  \t  1484.0 \t 92.7 \t\t 0.0 \t\t 110.0 \t\t 77.1\n",
            "71  \t  1512.0 \t 94.9 \t\t 0.0 \t\t 106.7 \t\t 77.1\n",
            "72  \t  1524.0 \t 96.9 \t\t 0.0 \t\t 107.6 \t\t 77.1\n",
            "73  \t  1528.0 \t 99.0 \t\t 0.0 \t\t 110.9 \t\t 77.1\n",
            "74  \t  1530.0 \t 94.3 \t\t 0.0 \t\t 117.0 \t\t 81.5\n",
            "75  \t  1573.0 \t 98.5 \t\t 0.0 \t\t 110.6 \t\t 79.5\n",
            "76  \t  1573.0 \t 98.5 \t\t 0.0 \t\t 113.0 \t\t 79.2\n",
            "77  \t  1573.0 \t 98.5 \t\t 0.0 \t\t 105.5 \t\t 80.2\n",
            "78  \t  1524.0 \t 96.9 \t\t 0.0 \t\t 106.2 \t\t 71.4\n",
            "79  \t  1487.0 \t 91.0 \t\t 0.0 \t\t 121.1 \t\t 76.9\n",
            "80  \t  1487.0 \t 91.0 \t\t 0.0 \t\t 102.8 \t\t 77.7\n",
            "81  \t  1487.0 \t 91.0 \t\t 0.0 \t\t 119.7 \t\t 75.5\n",
            "82  \t  1484.0 \t 92.7 \t\t 0.0 \t\t 109.4 \t\t 75.5\n",
            "83  \t  1484.0 \t 92.7 \t\t 0.0 \t\t 105.6 \t\t 75.5\n",
            "84  \t  1495.0 \t 98.1 \t\t 0.0 \t\t 110.4 \t\t 75.5\n",
            "85  \t  1495.0 \t 98.1 \t\t 0.0 \t\t 101.0 \t\t 74.2\n",
            "86  \t  1487.0 \t 96.5 \t\t 0.0 \t\t 122.7 \t\t 74.2\n",
            "87  \t  1516.0 \t 97.6 \t\t 0.0 \t\t 110.7 \t\t 74.2\n",
            "88  \t  1487.0 \t 96.5 \t\t 0.0 \t\t 107.7 \t\t 74.2\n",
            "89  \t  1527.0 \t 96.9 \t\t 0.0 \t\t 108.4 \t\t 75.1\n",
            "90  \t  1541.0 \t 94.3 \t\t 0.0 \t\t 109.1 \t\t 80.4\n",
            "91  \t  1527.0 \t 96.9 \t\t 0.0 \t\t 105.2 \t\t 80.4\n",
            "92  \t  1527.0 \t 96.9 \t\t 0.0 \t\t 115.8 \t\t 76.4\n",
            "93  \t  1528.0 \t 99.0 \t\t 0.0 \t\t 113.4 \t\t 79.5\n",
            "94  \t  1554.0 \t 97.7 \t\t 0.0 \t\t 106.1 \t\t 69.1\n",
            "95  \t  1554.0 \t 97.7 \t\t 0.0 \t\t 104.9 \t\t 73.7\n",
            "96  \t  1547.0 \t 99.2 \t\t 0.0 \t\t 110.5 \t\t 73.7\n",
            "97  \t  1527.0 \t 96.9 \t\t 0.0 \t\t 111.5 \t\t 76.7\n",
            "98  \t  1527.0 \t 96.9 \t\t 0.0 \t\t 104.6 \t\t 79.9\n",
            "99  \t  1554.0 \t 91.0 \t\t 0.0 \t\t 108.4 \t\t 79.8\n",
            "100  \t  1533.0 \t 99.2 \t\t 0.0 \t\t 107.9 \t\t 78.5\n"
          ]
        }
      ],
      "source": [
        "print(\"# \\t best_cost \\t best_weight \\t min_cost \\t max_weight \\t min_weight\")\n",
        "\n",
        "for i in range(dim):\n",
        "  print(generation[i], \" \\t \", \"{:.1f} \\t {:.1f} \\t\\t {:.1f} \\t\\t {:.1f} \\t\\t {:.1f}\".format(\n",
        "      best_cost[i], best_weight[i], min_cost[i], max_weight[i], min_weight[i]))"
      ]
    },
    {
      "cell_type": "code",
      "source": [
        "import matplotlib.pyplot as plt\n",
        "\n",
        "plt.plot(generation, best_cost, label='best cost')\n",
        "plt.plot(generation, min_cost, label='min cost')\n",
        "plt.legend()\n",
        "plt.show()\n",
        "\n",
        "plt.plot(generation, best_weight, label='best weight')\n",
        "plt.plot(generation, max_weight, label='max weight')\n",
        "plt.plot(generation, min_weight, label='min weight')\n",
        "plt.legend()\n",
        "plt.show()"
      ],
      "metadata": {
        "colab": {
          "base_uri": "https://localhost:8080/",
          "height": 513
        },
        "id": "qcG3ZPiqIHvx",
        "outputId": "5bc8cdbf-96bb-4624-a687-4a38326d466c"
      },
      "execution_count": 13,
      "outputs": [
        {
          "output_type": "display_data",
          "data": {
            "text/plain": [
              "<Figure size 432x288 with 1 Axes>"
            ],
            "image/png": "[encoded data removed]"
          },
          "metadata": {
            "needs_background": "light"
          }
        },
        {
          "output_type": "display_data",
          "data": {
            "text/plain": [
              "<Figure size 432x288 with 1 Axes>"
            ],
            "image/png": "[encoded data removed]"
          },
          "metadata": {
            "needs_background": "light"
          }
        }
      ]
    },
    {
      "cell_type": "markdown",
      "metadata": {
        "id": "WVW-XgsmFybg"
      },
      "source": [
        "# Task 2 Particle Swarm optimization\n",
        "\n",
        "Implement Particle swarm optimization algorithm and find the global minimum of the Rosenbrock's banana function."
      ]
    },
    {
      "cell_type": "code",
      "execution_count": 14,
      "metadata": {
        "id": "OvH_8HZbI2pv"
      },
      "outputs": [],
      "source": [
        "# Example\n",
        "def banana(xx):\n",
        "  x = xx[0]\n",
        "  y = xx[1]\n",
        "  return x**4 - 2*y*x**2 + y**2 + x**2 - 2*x + 5\n",
        "\n",
        "# limits for searching solution\n",
        "lower_bound = [-5, -5]\n",
        "upper_bound = [5, 5]"
      ]
    },
    {
      "cell_type": "markdown",
      "metadata": {
        "id": "O8MjmWeEIpa2"
      },
      "source": [
        "Define python function\n",
        "```python\n",
        "def lab6-pso(objective, l_bound, u_bound,\n",
        "       swarmsize, dimension, \n",
        "       iterations=100, omega=0.5, phip=0.5, phig=0.5):\n",
        "       return [best_global, obj_global]\n",
        "```\n",
        "Function arguments:\n",
        "\n",
        "*   **objective** is the objective function, i.e. the banana function for us (see above)\n",
        "*   **l_bound** - lower bound of the area for searching a solution\n",
        "*   **u_bound** - upper bound of the area for searching a solution\n",
        "*   **swarmsize** - number of particles in the swarm\n",
        "*   **dimension** - the dimension of the searching space. Banana function is a function of two variables so that each particle is a two dimensional vector [x, y].\n",
        "*   **interations** - a stop criterion of the algorithm, which will stop the algorithm after certain number of iterations \n",
        "*   **omega** - $\\omega$ parameter of the algorithm\n",
        "*   **phip** - $\\phi_p$ parameter of the algorithm \n",
        "*   **phig** - $\\phi_g$ parameter of the algorithm\n",
        "\n",
        "### PSO Algorithm\n",
        "\n",
        "1. **Initialize the swarm.** The swarm is an numpy array of shape ( $N_S, N_D$ ) of np.float64 data type. $N_S$ is swarmsize and $N_D = 2$ is the dimension of the position of the particle. Position of each particle is initialized randomly from uniform distribution within the area given by lower and upper bounds, i.e. a position of the particle (solution) is a vector $[x, y]$ where $x \\in <-5.0,5.0>$ and $y \\in <-5.0, 5.0>$.\n",
        "\n",
        "2. **Set best_local variable for each particle.**\n",
        "In this place it is a simple deep copy  of the swarm numpy matrix (swarm.copy()). \n",
        "\n",
        "3. **Evaluate the objective function for all particles in the swarm.** Simply said, call the objective function for each row in the swarm matrix and store them in the obj_local array (local best objective values).\n",
        "\n",
        "4. **Find the index $i$ of minimum of the objective value in the array**, i.e. get the best solution of the swarm. Perform deep copy of the row at index $i$ to variable best_global and assign the objective value at index $i$ to variable obj_global. Both variables represent best global solution for the swarm. **Hint:** use the numpy.argmin function\n",
        "\n",
        "5. **Initialize the velocity matrix $v_t$** for $t=-1$. This is a  numpy matrix of the shape of $(N_S, N_D)$ where $N_S$ and the type of numpy.float64\n",
        "6. **Prepare the loop for all iterations.**. The loop body starts.\n",
        "\n",
        ">> 6-1. **Generate random number matrixes** ${\\bf r}_p \\in <0,1>^{N_SN_D}$ and ${\\bf r}_p \\in <0,1>^{N_SN_D}$. \n",
        "\n",
        ">> 6-2. **Calculate velocities and positions of particles.** The particle velocity is given by equation\n",
        "$${\\bf v}_t=\\omega {\\bf v}_{t-1} + \\phi_p{\\bf r}_p(p_{\\text{best}} - {\\bf x}_t) + \\phi_g{\\bf r}_g(g_{\\text{best}} - {\\bf x}_t)\n",
        "$$\n",
        "where $p_{\\text{best}}$ is the particle best solution (position), $g_{\\text{best}}$ is the global best solution (position) and ${\\bf x}_t$. The position of the particle is updated by\n",
        "$$\n",
        "  {\\bf x}_{t+1}={\\bf x}_t + {\\bf v}_t\n",
        "$$\n",
        "\n",
        ">> 6-3. **Calculate objective function** for all particles and store them in the numpy array. Compare current objective values to values in the obj_local array. If new objective value is less than previously stored objective local value, update the obj_local array and also store new best_local position for the particle.\n",
        "\n",
        ">> 6-4. **Find the index $i$ of minimum of the objective value in the array**, i.e. get the best solution of the swarm. If the minimum value is less than previously stored (in obj_global) perform deep copy of the row at index $i$ to variable best_global and assign the objective value at index $i$ to variable obj_global. Both variables represent best global solution for the swarm. **Hint:** use the numpy.argmin function.\n",
        "\n",
        ">> 6-5. **Continue at point 6-1**, until the total number of iterations is reached.\n",
        "\n",
        "7. **Return the best solution** (position and objective)\n"
      ]
    },
    {
      "cell_type": "code",
      "execution_count": 15,
      "metadata": {
        "id": "RVkLuWTn2RSC"
      },
      "outputs": [],
      "source": [
        "def pso(objective, l_bound, u_bound, swarmsize, dimension, iterations=100, omega=0.5, phip=0.5, phig=0.5):\n",
        "  # Initialize the swarm\n",
        "  swarm = np.zeros((swarmsize, dimension), dtype=np.float64)\n",
        "  for i in range(swarmsize):\n",
        "    x = np.random.uniform(l_bound[0], u_bound[0])\n",
        "    y = np.random.uniform(l_bound[1], u_bound[1])\n",
        "    swarm[i][0] = x\n",
        "    swarm[i][1] = y\n",
        "\n",
        "  # Set best_local variable for each particle\n",
        "  swarm_best_local = swarm.copy()\n",
        "\n",
        "  # Evaluate the objective function for all particles in the swarm\n",
        "  obj_local = np.zeros((swarmsize))\n",
        "  for i in range(swarmsize):\n",
        "    obj_local[i] = banana(swarm[i])\n",
        "\n",
        "  # Find the index i of minimum of the objective value in the array\n",
        "  i = obj_local.argmin()\n",
        "  best_global = swarm_best_local[i].copy()\n",
        "  obj_global = obj_local[i]\n",
        "  print('start')\n",
        "  print(obj_global)\n",
        "\n",
        "  # Initialize the velocity matrix\n",
        "  Vt = np.zeros((swarmsize, dimension), dtype=np.float64)\n",
        "\n",
        "  for j in range(iterations):\n",
        "    # Generate random number matrixes\n",
        "    rp = np.random.uniform(low=0, high=1, size=(swarmsize, dimension))\n",
        "    rg = np.random.uniform(low=0, high=1, size=(swarmsize, dimension))\n",
        "\n",
        "    # Calculate velocities and positions of particles\n",
        "    Vt = omega*Vt + phip*rp*(swarm_best_local - swarm) + phig*rg*(best_global - swarm)\n",
        "    swarm = swarm + Vt\n",
        "\n",
        "    # Calculate objective function\n",
        "    obj_function = np.zeros((swarmsize))\n",
        "    for k in range(swarmsize):\n",
        "      obj_function[k] = banana(swarm[k])\n",
        "    \n",
        "    for k in range(swarmsize):\n",
        "      if obj_function[k] < obj_local[k]:\n",
        "        obj_local[k] = obj_function[k]\n",
        "        swarm_best_local[k] = swarm[k]\n",
        "      \n",
        "    # Find the index i of minimum of the objective value in the array\n",
        "    obj_global_aux = min(obj_local)\n",
        "    print(obj_global_aux)\n",
        "    if obj_global_aux < obj_global:\n",
        "      i = obj_local.argmin()\n",
        "      best_global = swarm_best_local[i].copy()\n",
        "      obj_global = obj_global_aux\n",
        "\n",
        "  return best_global, obj_global"
      ]
    },
    {
      "cell_type": "markdown",
      "metadata": {
        "id": "0kAqYTqCIlGF"
      },
      "source": [
        "Run the PSO algorithm and print the best solution."
      ]
    },
    {
      "cell_type": "code",
      "execution_count": 16,
      "metadata": {
        "colab": {
          "base_uri": "https://localhost:8080/"
        },
        "id": "x0k4t7r02rfY",
        "outputId": "f8f3d71f-0919-422c-bdd0-93f8a499a133"
      },
      "outputs": [
        {
          "output_type": "stream",
          "name": "stdout",
          "text": [
            "start\n",
            "4.219717740030338\n",
            "4.035095717228693\n",
            "4.000969346503595\n",
            "4.000969346503595\n",
            "4.0002914317019584\n",
            "4.0002914317019584\n",
            "4.0002914317019584\n",
            "4.0002348868475766\n",
            "4.000079014481206\n",
            "4.000028762697512\n",
            "4.000028762697512\n",
            "4.000026770816346\n",
            "4.00000030521422\n",
            "4.00000030521422\n",
            "4.0000000640810205\n",
            "4.0000000640810205\n",
            "4.0000000640810205\n",
            "4.000000004948631\n",
            "4.000000004948631\n",
            "4.000000004948631\n",
            "4.000000004948631\n",
            "4.00000000268509\n",
            "4.00000000268509\n",
            "4.00000000268509\n",
            "4.000000002605205\n",
            "4.000000000533138\n",
            "4.000000000533138\n",
            "4.000000000283631\n",
            "4.000000000283631\n",
            "4.000000000283631\n",
            "4.000000000128118\n",
            "4.000000000061005\n",
            "4.000000000045306\n",
            "4.000000000014602\n",
            "4.00000000000878\n",
            "4.000000000004522\n",
            "4.000000000000843\n",
            "4.000000000000191\n",
            "4.000000000000191\n",
            "4.000000000000091\n",
            "4.000000000000091\n",
            "4.000000000000002\n",
            "4.000000000000002\n",
            "4.000000000000002\n",
            "4.000000000000002\n",
            "4.000000000000002\n",
            "4.000000000000002\n",
            "4.000000000000001\n",
            "4.0\n",
            "4.0\n",
            "4.0\n",
            "4.0\n",
            "4.0\n",
            "4.0\n",
            "4.0\n",
            "4.0\n",
            "4.0\n",
            "4.0\n",
            "4.0\n",
            "4.0\n",
            "4.0\n",
            "4.0\n",
            "4.0\n",
            "4.0\n",
            "4.0\n",
            "4.0\n",
            "4.0\n",
            "4.0\n",
            "4.0\n",
            "4.0\n",
            "4.0\n",
            "4.0\n",
            "4.0\n",
            "4.0\n",
            "4.0\n",
            "4.0\n",
            "4.0\n",
            "4.0\n",
            "4.0\n",
            "4.0\n",
            "4.0\n",
            "4.0\n",
            "4.0\n",
            "4.0\n",
            "4.0\n",
            "4.0\n",
            "4.0\n",
            "4.0\n",
            "4.0\n",
            "4.0\n",
            "4.0\n",
            "4.0\n",
            "4.0\n",
            "4.0\n",
            "4.0\n",
            "4.0\n",
            "4.0\n",
            "4.0\n",
            "4.0\n",
            "4.0\n",
            "4.0\n",
            "Best global: [1.00000001 1.00000004]\n",
            "Objective global: 4.0\n"
          ]
        }
      ],
      "source": [
        "best_global, obj_global = pso(banana, lower_bound, upper_bound, swarmsize=100, dimension=2)\n",
        "print('Best global:', best_global)\n",
        "print('Objective global:', obj_global)"
      ]
    },
    {
      "cell_type": "markdown",
      "metadata": {
        "id": "i5GRTnFu4J8q"
      },
      "source": [
        "## Subtask 1\n",
        "\n",
        "Use pyswarm package for the same task.\n",
        "\n",
        "**Hint:** Do not use constraints. \n",
        "\n",
        "\n"
      ]
    },
    {
      "cell_type": "code",
      "execution_count": 17,
      "metadata": {
        "colab": {
          "base_uri": "https://localhost:8080/"
        },
        "id": "kFfJasnP-6QP",
        "outputId": "f0362a28-ed01-4657-ebcc-1d5fcc4340bd",
        "scrolled": true
      },
      "outputs": [
        {
          "output_type": "stream",
          "name": "stdout",
          "text": [
            "Looking in indexes: https://pypi.org/simple, https://us-python.pkg.dev/colab-wheels/public/simple/\n",
            "Requirement already satisfied: pyswarm in /usr/local/lib/python3.8/dist-packages (0.6)\n",
            "Requirement already satisfied: numpy in /usr/local/lib/python3.8/dist-packages (from pyswarm) (1.21.6)\n"
          ]
        }
      ],
      "source": [
        "# Example\n",
        "!pip install pyswarm\n",
        "import pyswarm\n",
        "from pyswarm import pso"
      ]
    },
    {
      "cell_type": "code",
      "execution_count": 18,
      "metadata": {
        "colab": {
          "base_uri": "https://localhost:8080/"
        },
        "id": "cQFlALMh_AKt",
        "outputId": "c77592b2-5622-4a95-c7a4-5cda96f42ae0"
      },
      "outputs": [
        {
          "output_type": "stream",
          "name": "stdout",
          "text": [
            "Stopping search: Swarm best objective change less than 1e-08\n",
            "Best global: [1.00049448 1.00050761]\n",
            "Objective global: 4.000000476456279\n"
          ]
        }
      ],
      "source": [
        "xopt, fopt = pso(banana, lower_bound, upper_bound)\n",
        "print('Best global:', xopt)\n",
        "print('Objective global:', fopt)"
      ]
    }
  ],
  "metadata": {
    "colab": {
      "provenance": []
    },
    "kernelspec": {
      "display_name": "Python 3 (ipykernel)",
      "language": "python",
      "name": "python3"
    },
    "language_info": {
      "codemirror_mode": {
        "name": "ipython",
        "version": 3
      },
      "file_extension": ".py",
      "mimetype": "text/x-python",
      "name": "python",
      "nbconvert_exporter": "python",
      "pygments_lexer": "ipython3",
      "version": "3.7.7"
    }
  },
  "nbformat": 4,
  "nbformat_minor": 0
}
